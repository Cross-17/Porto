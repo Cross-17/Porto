{
 "cells": [
  {
   "cell_type": "code",
   "execution_count": 10,
   "metadata": {
    "collapsed": false,
    "deletable": true,
    "editable": true
   },
   "outputs": [],
   "source": [
    "import numpy as np # linear algebra\n",
    "import pandas as pd # data processing, CSV file I/O (e.g. pd.read_csv)\n",
    "from xgboost import XGBClassifier\n",
    "from sklearn.model_selection import StratifiedKFold\n",
    "\n",
    "\n",
    "# test files\n",
    "base_path = \"input/\"\n",
    "test_xgb = pd.read_csv(base_path + 'xgb.csv')\n",
    "test_lgb = pd.read_csv(base_path + 'lgb.csv')\n",
    "test_dnn = pd.read_csv(base_path + 'dnn_predictions.csv')\n",
    "test_up = pd.read_csv(base_path + 'test_submission.csv')\n",
    "test_cat = pd.read_csv(base_path + 'catboost_submission.csv')\n",
    "test_kin = pd.read_csv(base_path + 'test_uberKinetics.csv')\n",
    "test_gp = pd.read_csv(base_path + 'test_gpari.csv')\n",
    "test_bl = pd.read_csv('blend8.csv')\n",
    "\n",
    "\n",
    "train=pd.read_csv(base_path + 'train.csv')\n",
    "test=pd.read_csv(base_path + 'test.csv')\n",
    "\n",
    "from sklearn.linear_model import LogisticRegression\n",
    "from sklearn.model_selection import StratifiedKFold\n",
    "\n",
    "# train = pd.concat([train, \n",
    "#                    train_xgb[['target']].rename(columns = {'target' : 'xgb'}),\n",
    "#                    train_lgb[['target']].rename(columns = {'target' : 'lgb'}),\n",
    "#                    train_dnn[['target']].rename(columns = {'target' : 'dnn'}),\n",
    "#                    train_up[['target']].rename(columns = {'target' : 'up'}),\n",
    "#                    train_cat[['target']].rename(columns = {'target' : 'cat'}),\n",
    "#                    train_kin[['target']].rename(columns = {'target' : 'kin'}),\n",
    "#                    train_gp[['target']].rename(columns = {'target' : 'gp'})                   \n",
    "#                   ], axis = 1)\n",
    "\n",
    "test = pd.concat([test, \n",
    "                   test_xgb[['target']].rename(columns = {'target' : 'xgb'}),\n",
    "                   test_lgb[['target']].rename(columns = {'target' : 'lgb'}),\n",
    "                   test_dnn[['target']].rename(columns = {'target' : 'dnn'}),\n",
    "                   test_up[['target']].rename(columns = {'target' : 'up'}),\n",
    "                   test_cat[['target']].rename(columns = {'target' : 'cat'}),\n",
    "                   test_kin[['target']].rename(columns = {'target' : 'kin'}),\n",
    "                   test_gp[['target']].rename(columns = {'target' : 'gp'}),\n",
    "                  ], axis = 1)\n",
    "\n",
    "\n",
    "train_cols = ['xgb', 'lgb', 'dnn', 'up', 'cat', 'kin', 'gp']"
   ]
  },
  {
   "cell_type": "code",
   "execution_count": 11,
   "metadata": {
    "collapsed": false,
    "deletable": true,
    "editable": true
   },
   "outputs": [],
   "source": [
    "for t in train_cols:\n",
    "    max_ = train.append(test, ignore_index = True)[t].max()\n",
    "    min_ = train.append(test, ignore_index = True)[t].min()\n",
    "#     train[t] = (train[t] - min_) / (max_ - min_)\n",
    "    test[t] = (test[t] - min_) / (max_ - min_)\n",
    "\n",
    "for t in train_cols:\n",
    "#     train[t + '_rank'] = train[t].rank()\n",
    "    test[t + '_rank'] = test[t].rank()\n",
    "\n",
    "\n",
    "test['target'] = (test['xgb_rank'] + test['lgb_rank'] + test['dnn_rank'] + test['up_rank'] + \\\n",
    "                 test['cat_rank'] + test['kin_rank'] + test['gp_rank']) / (7 * test.shape[0])\n",
    "\n",
    "test[['id', 'target']].to_csv(base_path + 'rank_avg.csv.gz', index = False, compression = 'gzip') "
   ]
  },
  {
   "cell_type": "code",
   "execution_count": null,
   "metadata": {
    "collapsed": true,
    "deletable": true,
    "editable": true
   },
   "outputs": [],
   "source": []
  }
 ],
 "metadata": {
  "kernelspec": {
   "display_name": "Python 3",
   "language": "python",
   "name": "python3"
  },
  "language_info": {
   "codemirror_mode": {
    "name": "ipython",
    "version": 3
   },
   "file_extension": ".py",
   "mimetype": "text/x-python",
   "name": "python",
   "nbconvert_exporter": "python",
   "pygments_lexer": "ipython3",
   "version": "3.5.3"
  }
 },
 "nbformat": 4,
 "nbformat_minor": 2
}
